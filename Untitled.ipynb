{
  "cells": [
    {
      "cell_type": "code",
      "execution_count": 1,
      "metadata": {
        "pycharm": {
          "is_executing": false
        }
      },
      "outputs": [],
      "source": "from IPython.display import display"
    },
    {
      "cell_type": "code",
      "execution_count": 2,
      "metadata": {
        "pycharm": {}
      },
      "outputs": [],
      "source": [
        "import ctypes as C"
      ]
    },
    {
      "cell_type": "code",
      "execution_count": 2,
      "metadata": {
        "pycharm": {
          "is_executing": false
        }
      },
      "outputs": [
        {
          "traceback": [
            "\u001b[0;31m---------------------------------------------------------------------------\u001b[0m",
            "\u001b[0;31mNameError\u001b[0m                                 Traceback (most recent call last)",
            "\u001b[0;32m\u003cipython-input-2-6ef06ec5e2c4\u003e\u001b[0m in \u001b[0;36m\u003cmodule\u003e\u001b[0;34m\u001b[0m\n\u001b[0;32m----\u003e 1\u001b[0;31m \u001b[0;32mclass\u001b[0m \u001b[0mMyStruct\u001b[0m\u001b[0;34m(\u001b[0m\u001b[0mC\u001b[0m\u001b[0;34m.\u001b[0m\u001b[0mStructure\u001b[0m\u001b[0;34m)\u001b[0m\u001b[0;34m:\u001b[0m\u001b[0;34m\u001b[0m\u001b[0;34m\u001b[0m\u001b[0m\n\u001b[0m\u001b[1;32m      2\u001b[0m     \u001b[0ma\u001b[0m \u001b[0;34m\u003d\u001b[0m \u001b[0mC\u001b[0m\u001b[0;34m.\u001b[0m\u001b[0mc_int32\u001b[0m\u001b[0;34m(\u001b[0m\u001b[0;34m)\u001b[0m\u001b[0;34m\u001b[0m\u001b[0;34m\u001b[0m\u001b[0m\n\u001b[1;32m      3\u001b[0m     \u001b[0mb\u001b[0m \u001b[0;34m\u003d\u001b[0m \u001b[0mC\u001b[0m\u001b[0;34m.\u001b[0m\u001b[0mc_int32\u001b[0m\u001b[0;34m(\u001b[0m\u001b[0;34m)\u001b[0m\u001b[0;34m\u001b[0m\u001b[0;34m\u001b[0m\u001b[0m\n\u001b[1;32m      4\u001b[0m \u001b[0ms\u001b[0m \u001b[0;34m\u003d\u001b[0m \u001b[0mMyStruct\u001b[0m\u001b[0;34m(\u001b[0m\u001b[0;34m)\u001b[0m\u001b[0;34m\u001b[0m\u001b[0;34m\u001b[0m\u001b[0m\n",
            "\u001b[0;31mNameError\u001b[0m: name \u0027C\u0027 is not defined"
          ],
          "ename": "NameError",
          "evalue": "name \u0027C\u0027 is not defined",
          "output_type": "error"
        }
      ],
      "source": "class MyStruct(C.Structure):\n    a \u003d C.c_int32()\n    b \u003d C.c_int32()\ns \u003d MyStruct()"
    },
    {
      "cell_type": "code",
      "execution_count": 47,
      "metadata": {
        "pycharm": {}
      },
      "outputs": [
        {
          "data": {
            "text/plain": [
              "[\u0027_FuncPtr\u0027,\n",
              " \u0027__class__\u0027,\n",
              " \u0027__delattr__\u0027,\n",
              " \u0027__dict__\u0027,\n",
              " \u0027__dir__\u0027,\n",
              " \u0027__doc__\u0027,\n",
              " \u0027__eq__\u0027,\n",
              " \u0027__format__\u0027,\n",
              " \u0027__ge__\u0027,\n",
              " \u0027__getattr__\u0027,\n",
              " \u0027__getattribute__\u0027,\n",
              " \u0027__getitem__\u0027,\n",
              " \u0027__gt__\u0027,\n",
              " \u0027__hash__\u0027,\n",
              " \u0027__init__\u0027,\n",
              " \u0027__init_subclass__\u0027,\n",
              " \u0027__le__\u0027,\n",
              " \u0027__lt__\u0027,\n",
              " \u0027__module__\u0027,\n",
              " \u0027__ne__\u0027,\n",
              " \u0027__new__\u0027,\n",
              " \u0027__reduce__\u0027,\n",
              " \u0027__reduce_ex__\u0027,\n",
              " \u0027__repr__\u0027,\n",
              " \u0027__setattr__\u0027,\n",
              " \u0027__sizeof__\u0027,\n",
              " \u0027__str__\u0027,\n",
              " \u0027__subclasshook__\u0027,\n",
              " \u0027__weakref__\u0027,\n",
              " \u0027_func_flags_\u0027,\n",
              " \u0027_func_restype_\u0027,\n",
              " \u0027_handle\u0027,\n",
              " \u0027_name\u0027]"
            ]
          },
          "execution_count": 47,
          "metadata": {},
          "output_type": "execute_result"
        }
      ],
      "source": "dir(C.pythonapi)"
    },
    {
      "cell_type": "code",
      "execution_count": 22,
      "metadata": {
        "pycharm": {}
      },
      "outputs": [],
      "source": [
        "p \u003d C.c_char_p()"
      ]
    },
    {
      "cell_type": "code",
      "execution_count": 23,
      "metadata": {
        "pycharm": {}
      },
      "outputs": [],
      "source": [
        "p.value"
      ]
    },
    {
      "cell_type": "code",
      "execution_count": 30,
      "metadata": {
        "pycharm": {}
      },
      "outputs": [],
      "source": [
        "p \u003d C.c_char(b\u0027a\u0027)"
      ]
    },
    {
      "cell_type": "code",
      "execution_count": 31,
      "metadata": {
        "pycharm": {}
      },
      "outputs": [
        {
          "data": {
            "text/plain": [
              "c_char(b\u0027a\u0027)"
            ]
          },
          "execution_count": 31,
          "metadata": {},
          "output_type": "execute_result"
        }
      ],
      "source": [
        "p"
      ]
    },
    {
      "cell_type": "code",
      "execution_count": 32,
      "metadata": {
        "pycharm": {}
      },
      "outputs": [
        {
          "data": {
            "text/plain": [
              "[\u0027__class__\u0027,\n",
              " \u0027__ctypes_from_outparam__\u0027,\n",
              " \u0027__delattr__\u0027,\n",
              " \u0027__dict__\u0027,\n",
              " \u0027__dir__\u0027,\n",
              " \u0027__doc__\u0027,\n",
              " \u0027__eq__\u0027,\n",
              " \u0027__format__\u0027,\n",
              " \u0027__ge__\u0027,\n",
              " \u0027__getattribute__\u0027,\n",
              " \u0027__gt__\u0027,\n",
              " \u0027__hash__\u0027,\n",
              " \u0027__init__\u0027,\n",
              " \u0027__init_subclass__\u0027,\n",
              " \u0027__le__\u0027,\n",
              " \u0027__lt__\u0027,\n",
              " \u0027__module__\u0027,\n",
              " \u0027__ne__\u0027,\n",
              " \u0027__new__\u0027,\n",
              " \u0027__reduce__\u0027,\n",
              " \u0027__reduce_ex__\u0027,\n",
              " \u0027__repr__\u0027,\n",
              " \u0027__setattr__\u0027,\n",
              " \u0027__setstate__\u0027,\n",
              " \u0027__sizeof__\u0027,\n",
              " \u0027__str__\u0027,\n",
              " \u0027__subclasshook__\u0027,\n",
              " \u0027__weakref__\u0027,\n",
              " \u0027_b_base_\u0027,\n",
              " \u0027_b_needsfree_\u0027,\n",
              " \u0027_objects\u0027,\n",
              " \u0027a\u0027,\n",
              " \u0027b\u0027]"
            ]
          },
          "execution_count": 32,
          "metadata": {},
          "output_type": "execute_result"
        }
      ],
      "source": [
        "dir(s)"
      ]
    },
    {
      "cell_type": "code",
      "execution_count": null,
      "metadata": {
        "pycharm": {}
      },
      "outputs": [],
      "source": []
    }
  ],
  "metadata": {
    "kernelspec": {
      "display_name": "Python 3",
      "language": "python",
      "name": "python3"
    },
    "language_info": {
      "codemirror_mode": {
        "name": "ipython",
        "version": 3
      },
      "file_extension": ".py",
      "mimetype": "text/x-python",
      "name": "python",
      "nbconvert_exporter": "python",
      "pygments_lexer": "ipython3",
      "version": "3.7.1"
    }
  },
  "nbformat": 4,
  "nbformat_minor": 2
}